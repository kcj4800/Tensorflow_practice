{
  "nbformat": 4,
  "nbformat_minor": 0,
  "metadata": {
    "colab": {
      "provenance": [],
      "gpuType": "T4",
      "authorship_tag": "ABX9TyNV2+P2ZVvEpCb8FYB12U60",
      "include_colab_link": true
    },
    "kernelspec": {
      "name": "python3",
      "display_name": "Python 3"
    },
    "language_info": {
      "name": "python"
    },
    "accelerator": "GPU",
    "gpuClass": "standard"
  },
  "cells": [
    {
      "cell_type": "markdown",
      "metadata": {
        "id": "view-in-github",
        "colab_type": "text"
      },
      "source": [
        "<a href=\"https://colab.research.google.com/github/kcj4800/Tensorflow_practice/blob/main/%EC%87%BC%ED%95%91%EB%AA%B0_%EC%82%AC%EC%A7%84_%EA%B5%AC%EB%B6%84_%EB%AA%A8%EB%8D%B8.ipynb\" target=\"_parent\"><img src=\"https://colab.research.google.com/assets/colab-badge.svg\" alt=\"Open In Colab\"/></a>"
      ]
    },
    {
      "cell_type": "code",
      "execution_count": 1,
      "metadata": {
        "colab": {
          "base_uri": "https://localhost:8080/"
        },
        "id": "AbnZLfUQsPpf",
        "outputId": "49d607ae-b4bd-426d-9196-b63d10a369ed"
      },
      "outputs": [
        {
          "output_type": "stream",
          "name": "stdout",
          "text": [
            "Downloading data from https://storage.googleapis.com/tensorflow/tf-keras-datasets/train-labels-idx1-ubyte.gz\n",
            "29515/29515 [==============================] - 0s 0us/step\n",
            "Downloading data from https://storage.googleapis.com/tensorflow/tf-keras-datasets/train-images-idx3-ubyte.gz\n",
            "26421880/26421880 [==============================] - 0s 0us/step\n",
            "Downloading data from https://storage.googleapis.com/tensorflow/tf-keras-datasets/t10k-labels-idx1-ubyte.gz\n",
            "5148/5148 [==============================] - 0s 0us/step\n",
            "Downloading data from https://storage.googleapis.com/tensorflow/tf-keras-datasets/t10k-images-idx3-ubyte.gz\n",
            "4422102/4422102 [==============================] - 0s 0us/step\n",
            "Model: \"sequential\"\n",
            "_________________________________________________________________\n",
            " Layer (type)                Output Shape              Param #   \n",
            "=================================================================\n",
            " conv2d (Conv2D)             (None, 28, 28, 32)        320       \n",
            "                                                                 \n",
            " max_pooling2d (MaxPooling2D  (None, 14, 14, 32)       0         \n",
            " )                                                               \n",
            "                                                                 \n",
            " conv2d_1 (Conv2D)           (None, 14, 14, 64)        18496     \n",
            "                                                                 \n",
            " max_pooling2d_1 (MaxPooling  (None, 7, 7, 64)         0         \n",
            " 2D)                                                             \n",
            "                                                                 \n",
            " flatten (Flatten)           (None, 3136)              0         \n",
            "                                                                 \n",
            " dense (Dense)               (None, 64)                200768    \n",
            "                                                                 \n",
            " dense_1 (Dense)             (None, 128)               8320      \n",
            "                                                                 \n",
            " dense_2 (Dense)             (None, 10)                1290      \n",
            "                                                                 \n",
            "=================================================================\n",
            "Total params: 229,194\n",
            "Trainable params: 229,194\n",
            "Non-trainable params: 0\n",
            "_________________________________________________________________\n",
            "Epoch 1/3\n",
            "1875/1875 [==============================] - 25s 5ms/step - loss: 0.4247 - accuracy: 0.8456 - val_loss: 0.3301 - val_accuracy: 0.8802\n",
            "Epoch 2/3\n",
            "1875/1875 [==============================] - 8s 4ms/step - loss: 0.2768 - accuracy: 0.8984 - val_loss: 0.2731 - val_accuracy: 0.8992\n",
            "Epoch 3/3\n",
            "1875/1875 [==============================] - 7s 4ms/step - loss: 0.2358 - accuracy: 0.9126 - val_loss: 0.2533 - val_accuracy: 0.9068\n"
          ]
        },
        {
          "output_type": "execute_result",
          "data": {
            "text/plain": [
              "<keras.callbacks.History at 0x7fbd8a02bc10>"
            ]
          },
          "metadata": {},
          "execution_count": 1
        }
      ],
      "source": [
        "import tensorflow as tf\n",
        "import numpy as np\n",
        "\n",
        "\n",
        "(trainX, trainY), (testX, testY) = tf.keras.datasets.fashion_mnist.load_data()\n",
        "\n",
        "trainX = trainX / 255.0\n",
        "testX = testX / 255.0\n",
        "\n",
        "trainX = trainX.reshape((trainX.shape[0],trainX.shape[1], trainX.shape[2], 1))\n",
        "testX = testX.reshape((testX.shape[0], testX.shape[1], testX.shape[2], 1))\n",
        "\n",
        "# sequential : 순차적인, 결과로서 일어나는\n",
        "model = tf.keras.Sequential([\n",
        "    tf.keras.layers.Conv2D(32, (3, 3), padding='same', activation='relu', input_shape=(28,28,1)),\n",
        "    tf.keras.layers.MaxPooling2D((2, 2)),\n",
        "    tf.keras.layers.Conv2D(64, (3, 3), padding='same', activation='relu'),\n",
        "    tf.keras.layers.MaxPooling2D((2, 2)),\n",
        "    tf.keras.layers.Flatten(),\n",
        "    tf.keras.layers.Dense(64, activation='relu'),\n",
        "    tf.keras.layers.Dense(128, activation='relu'),\n",
        "    tf.keras.layers.Dense(10, activation='softmax'),\n",
        "])\n",
        "\n",
        "# model.summary()를 해주고싶으면 첫번째 레이어에 input_shape(28, 28, 1)등을 꼭 해줘야한다.\n",
        "# Conv2D나 MaxPooling2D등이 없을 경우 Flatten(input_shape=(28, 28, 1))등으로 쓰면 된다.\n",
        "model.summary()\n",
        "\n",
        "# sparse : 드문 드문, 희박한, 성긴\n",
        "# sparse categorical crossentropy : 희소 범주형 고차 엔트로피, \n",
        "# 엔트로피: 어떤 계통 안에서 일어나는 일의 빈도를 나타내는 척도(단위)\n",
        "# compile : 편집하다.\n",
        "# optimizer : 최적화.\n",
        "# metrics : 측정의 기준\n",
        "# accuracy : 정확성, 정밀도\n",
        "# validation : 확인, (동) 입증하다, 허가하다\n",
        "\n",
        "model.compile(loss='sparse_categorical_crossentropy', optimizer='adam', metrics=['accuracy'])\n",
        "model.fit(trainX, trainY, validation_data=(testX, testY), epochs=3)\n",
        "\n",
        "\n"
      ]
    },
    {
      "cell_type": "code",
      "source": [
        "model.save('새폴더/model1')"
      ],
      "metadata": {
        "colab": {
          "base_uri": "https://localhost:8080/"
        },
        "id": "6dL2RCJx2mD-",
        "outputId": "3bd6c210-4411-4208-e628-96bf2c354f5f"
      },
      "execution_count": 2,
      "outputs": [
        {
          "output_type": "stream",
          "name": "stderr",
          "text": [
            "WARNING:absl:Found untraced functions such as _jit_compiled_convolution_op, _jit_compiled_convolution_op while saving (showing 2 of 2). These functions will not be directly callable after loading.\n"
          ]
        }
      ]
    },
    {
      "cell_type": "code",
      "source": [
        "불러온모델 = tf.keras.models.load_model('새폴더/model1')\n",
        "불러온모델.summary()\n",
        "\n",
        "# tensorflow 2.3v 이하에서 발생하는 버그 발생시\n",
        "# 불러온모델.compile(loss='sparse_categorical_crossentropy', optimizer='adam', metrics='sparse_categorical_accuracy')\n",
        "# 이 후에 model.evaluate(), model.predict(), model.fit() 등을 하면 된다.\n",
        "\n",
        "불러온모델.evaluate(testX, testY)"
      ],
      "metadata": {
        "colab": {
          "base_uri": "https://localhost:8080/"
        },
        "id": "-JG3_uzd2w_X",
        "outputId": "6cd653ef-6db0-4be3-fd41-af0ae00e087d"
      },
      "execution_count": 3,
      "outputs": [
        {
          "output_type": "stream",
          "name": "stdout",
          "text": [
            "Model: \"sequential\"\n",
            "_________________________________________________________________\n",
            " Layer (type)                Output Shape              Param #   \n",
            "=================================================================\n",
            " conv2d (Conv2D)             (None, 28, 28, 32)        320       \n",
            "                                                                 \n",
            " max_pooling2d (MaxPooling2D  (None, 14, 14, 32)       0         \n",
            " )                                                               \n",
            "                                                                 \n",
            " conv2d_1 (Conv2D)           (None, 14, 14, 64)        18496     \n",
            "                                                                 \n",
            " max_pooling2d_1 (MaxPooling  (None, 7, 7, 64)         0         \n",
            " 2D)                                                             \n",
            "                                                                 \n",
            " flatten (Flatten)           (None, 3136)              0         \n",
            "                                                                 \n",
            " dense (Dense)               (None, 64)                200768    \n",
            "                                                                 \n",
            " dense_1 (Dense)             (None, 128)               8320      \n",
            "                                                                 \n",
            " dense_2 (Dense)             (None, 10)                1290      \n",
            "                                                                 \n",
            "=================================================================\n",
            "Total params: 229,194\n",
            "Trainable params: 229,194\n",
            "Non-trainable params: 0\n",
            "_________________________________________________________________\n",
            "313/313 [==============================] - 1s 2ms/step - loss: 0.2533 - accuracy: 0.9068\n"
          ]
        },
        {
          "output_type": "execute_result",
          "data": {
            "text/plain": [
              "[0.2532525956630707, 0.9067999720573425]"
            ]
          },
          "metadata": {},
          "execution_count": 3
        }
      ]
    },
    {
      "cell_type": "code",
      "source": [
        "# 2. w값만 저장/ 로드 => 모든 w값은 variables 폴더 안에 variables.data, variables.index 등으로 존재\n",
        "# check point 저장 => epochs를 돌리는 중간 중간 체크포인트 저장이 가능하다.\n",
        "\n",
        "import tensorflow as tf\n",
        "import numpy as np\n",
        "\n",
        "\n",
        "(trainX, trainY), (testX, testY) = tf.keras.datasets.fashion_mnist.load_data()\n",
        "\n",
        "trainX = trainX / 255.0\n",
        "testX = testX / 255.0\n",
        "\n",
        "trainX = trainX.reshape((trainX.shape[0],trainX.shape[1], trainX.shape[2], 1))\n",
        "testX = testX.reshape((testX.shape[0], testX.shape[1], testX.shape[2], 1))\n",
        "\n",
        "# sequential : 순차적인, 결과로서 일어나는\n",
        "model = tf.keras.Sequential([\n",
        "    # tf.keras.layers.Conv2D(32, (3, 3), padding='same', activation='relu', input_shape=(28,28,1)),\n",
        "    # tf.keras.layers.MaxPooling2D((2, 2)),\n",
        "    # tf.keras.layers.Conv2D(64, (3, 3), padding='same', activation='relu'),\n",
        "    # tf.keras.layers.MaxPooling2D((2, 2)),\n",
        "    tf.keras.layers.Flatten(input_shape=(28, 28, 1)),\n",
        "    tf.keras.layers.Dense(128, activation='relu'),\n",
        "    tf.keras.layers.Dense(10, activation='softmax'),\n",
        "])\n",
        "# 콜백함수를 선언했으면, model.fit() 할때 callbacks=[] 함수를 집어넣어주면 하나의 epoch마다 w값을 저장해준다.\n",
        "콜백함수 = tf.keras.callbacks.ModelCheckpoint(\n",
        "    filepath='체크포인트/mnist', # 체크포인트 폴더명 안에 mnist라는 파일이 생성됨(덮어쓰기로 저장)\n",
        "    # filepath='체크포인트/mnist{epoch}', # 체크포인트를 매 epoch 마다 저장해줌\n",
        "    # validation_accuracy가 최대가 되는 check point만 저장하고 싶을 때\n",
        "    monitor='val_acc',\n",
        "    mode='max',\n",
        "    # 위의 두가지 함수를 이용하면 되지만, 이 경우 val_acc값이 뻥튀기 될 때가 있어, 악용될 수 있음에 유의해야한다.\n",
        "    save_weights_only=True,\n",
        "    save_freq='epoch'  \n",
        "  )\n",
        "\n",
        "\n",
        "\n",
        "# model.summary()를 해주고싶으면 첫번째 레이어에 input_shape(28, 28, 1)등을 꼭 해줘야한다.\n",
        "# Conv2D나 MaxPooling2D등이 없을 경우 Flatten(input_shape=(28, 28, 1))등으로 쓰면 된다.\n",
        "model.summary()\n",
        "\n",
        "# sparse : 드문 드문, 희박한, 성긴\n",
        "# sparse categorical crossentropy : 희소 범주형 고차 엔트로피, \n",
        "# 엔트로피: 어떤 계통 안에서 일어나는 일의 빈도를 나타내는 척도(단위)\n",
        "# compile : 편집하다.\n",
        "# optimizer : 최적화.\n",
        "# metrics : 측정의 기준\n",
        "# accuracy : 정확성, 정밀도\n",
        "# validation : 확인, (동) 입증하다, 허가하다\n",
        "\n",
        "model.compile(loss='sparse_categorical_crossentropy', optimizer='adam', metrics=['accuracy'])\n",
        "model.fit(trainX, trainY, validation_data=(testX, testY), epochs=3, callbacks=[콜백함수])\n",
        "\n",
        "\n",
        "\n"
      ],
      "metadata": {
        "colab": {
          "base_uri": "https://localhost:8080/"
        },
        "id": "1bxUspaF5iqT",
        "outputId": "1da696a8-9289-4065-fd26-12511d5711ee"
      },
      "execution_count": 4,
      "outputs": [
        {
          "output_type": "stream",
          "name": "stdout",
          "text": [
            "Model: \"sequential_1\"\n",
            "_________________________________________________________________\n",
            " Layer (type)                Output Shape              Param #   \n",
            "=================================================================\n",
            " flatten_1 (Flatten)         (None, 784)               0         \n",
            "                                                                 \n",
            " dense_3 (Dense)             (None, 128)               100480    \n",
            "                                                                 \n",
            " dense_4 (Dense)             (None, 10)                1290      \n",
            "                                                                 \n",
            "=================================================================\n",
            "Total params: 101,770\n",
            "Trainable params: 101,770\n",
            "Non-trainable params: 0\n",
            "_________________________________________________________________\n",
            "Epoch 1/3\n",
            "1875/1875 [==============================] - 7s 3ms/step - loss: 0.5028 - accuracy: 0.8228 - val_loss: 0.4231 - val_accuracy: 0.8525\n",
            "Epoch 2/3\n",
            "1875/1875 [==============================] - 5s 3ms/step - loss: 0.3762 - accuracy: 0.8632 - val_loss: 0.3924 - val_accuracy: 0.8613\n",
            "Epoch 3/3\n",
            "1875/1875 [==============================] - 6s 3ms/step - loss: 0.3359 - accuracy: 0.8769 - val_loss: 0.3767 - val_accuracy: 0.8667\n"
          ]
        },
        {
          "output_type": "execute_result",
          "data": {
            "text/plain": [
              "<keras.callbacks.History at 0x7fbd6028b550>"
            ]
          },
          "metadata": {},
          "execution_count": 4
        }
      ]
    },
    {
      "cell_type": "code",
      "source": [
        "model2 = tf.keras.Sequential([\n",
        "    tf.keras.layers.Flatten(input_shape=(28, 28, 1)),\n",
        "    tf.keras.layers.Dense(128, activation='relu'),\n",
        "    tf.keras.layers.Dense(10, activation='softmax'),\n",
        "])\n",
        "\n",
        "model2.summary()\n",
        "\n",
        "model2.compile(loss='sparse_categorical_crossentropy', optimizer='adam', metrics=['accuracy'])\n",
        "\n",
        "model2.load_weights('체크포인트/mnist')\n",
        "model2.fit(trainX, trainY, validation_data=(testX, testY), epochs=3)\n",
        "model2.evaluate(testX, testY)"
      ],
      "metadata": {
        "colab": {
          "base_uri": "https://localhost:8080/"
        },
        "id": "T7qn5oQ4zdCh",
        "outputId": "7466a504-61d9-420c-9542-02b8cf0c82a3"
      },
      "execution_count": 5,
      "outputs": [
        {
          "output_type": "stream",
          "name": "stdout",
          "text": [
            "Model: \"sequential_2\"\n",
            "_________________________________________________________________\n",
            " Layer (type)                Output Shape              Param #   \n",
            "=================================================================\n",
            " flatten_2 (Flatten)         (None, 784)               0         \n",
            "                                                                 \n",
            " dense_5 (Dense)             (None, 128)               100480    \n",
            "                                                                 \n",
            " dense_6 (Dense)             (None, 10)                1290      \n",
            "                                                                 \n",
            "=================================================================\n",
            "Total params: 101,770\n",
            "Trainable params: 101,770\n",
            "Non-trainable params: 0\n",
            "_________________________________________________________________\n",
            "Epoch 1/3\n",
            "1875/1875 [==============================] - 9s 4ms/step - loss: 0.3117 - accuracy: 0.8859 - val_loss: 0.3658 - val_accuracy: 0.8666\n",
            "Epoch 2/3\n",
            "1875/1875 [==============================] - 5s 3ms/step - loss: 0.2938 - accuracy: 0.8932 - val_loss: 0.3498 - val_accuracy: 0.8753\n",
            "Epoch 3/3\n",
            "1875/1875 [==============================] - 5s 3ms/step - loss: 0.2779 - accuracy: 0.8978 - val_loss: 0.3582 - val_accuracy: 0.8694\n",
            "313/313 [==============================] - 1s 2ms/step - loss: 0.3582 - accuracy: 0.8694\n"
          ]
        },
        {
          "output_type": "execute_result",
          "data": {
            "text/plain": [
              "[0.3581870496273041, 0.8694000244140625]"
            ]
          },
          "metadata": {},
          "execution_count": 5
        }
      ]
    }
  ]
}